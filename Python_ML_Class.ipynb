{
  "nbformat": 4,
  "nbformat_minor": 0,
  "metadata": {
    "colab": {
      "provenance": [],
      "authorship_tag": "ABX9TyOikEUovHmb8yKivPNjE7F4",
      "include_colab_link": true
    },
    "kernelspec": {
      "name": "python3",
      "display_name": "Python 3"
    },
    "language_info": {
      "name": "python"
    }
  },
  "cells": [
    {
      "cell_type": "markdown",
      "metadata": {
        "id": "view-in-github",
        "colab_type": "text"
      },
      "source": [
        "<a href=\"https://colab.research.google.com/github/UcheDan1661/My-react-project/blob/main/Python_ML_Class.ipynb\" target=\"_parent\"><img src=\"https://colab.research.google.com/assets/colab-badge.svg\" alt=\"Open In Colab\"/></a>"
      ]
    },
    {
      "cell_type": "markdown",
      "source": [],
      "metadata": {
        "id": "f-MXy5_jrbDM"
      }
    },
    {
      "cell_type": "markdown",
      "source": [],
      "metadata": {
        "id": "j8BTbQ3prdNF"
      }
    },
    {
      "cell_type": "markdown",
      "source": [],
      "metadata": {
        "id": "n5cVP9ifrYMH"
      }
    },
    {
      "cell_type": "markdown",
      "source": [
        "Here is Practice of ML class Labs"
      ],
      "metadata": {
        "id": "YkRnr_1orhqN"
      }
    },
    {
      "cell_type": "code",
      "execution_count": 5,
      "metadata": {
        "colab": {
          "base_uri": "https://localhost:8080/"
        },
        "id": "ezVHfHVKrWbm",
        "outputId": "d2cf83cc-0f68-4619-e75c-9af81292c634"
      },
      "outputs": [
        {
          "output_type": "stream",
          "name": "stdout",
          "text": [
            "this is a string stored in variable\n",
            "when you want to combine string and a variable this is a string stored in variable\n"
          ]
        }
      ],
      "source": [
        "varibale = \"this is a string stored in variable\"\n",
        "print(varibale)\n",
        "print(f\"when you want to combine string and a variable {varibale}\")"
      ]
    },
    {
      "cell_type": "code",
      "source": [],
      "metadata": {
        "id": "jhzm4aQDsCOE"
      },
      "execution_count": null,
      "outputs": []
    }
  ]
}